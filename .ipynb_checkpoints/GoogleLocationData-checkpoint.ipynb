{
 "cells": [
  {
   "cell_type": "code",
<<<<<<< HEAD
<<<<<<< HEAD
   "execution_count": 68,
=======
   "execution_count": 1,
>>>>>>> david
=======
   "execution_count": 1,
>>>>>>> david
   "metadata": {},
   "outputs": [],
   "source": [
    "# Dependencies and Setup\n",
    "import matplotlib.pyplot as plt\n",
    "import pandas as pd\n",
    "import numpy as np\n",
    "import requests\n",
    "import gmaps\n",
    "import os\n",
    "import json\n",
<<<<<<< HEAD
<<<<<<< HEAD
=======
    "import csv\n",
>>>>>>> david
=======
    "import csv\n",
>>>>>>> david
    "\n",
    "# Import API key\n",
    "from config import gkey"
   ]
  },
  {
   "cell_type": "code",
<<<<<<< HEAD
<<<<<<< HEAD
   "execution_count": 69,
=======
   "execution_count": 2,
>>>>>>> david
=======
   "execution_count": 2,
>>>>>>> david
   "metadata": {},
   "outputs": [
    {
     "data": {
      "text/html": [
       "<div>\n",
       "<style scoped>\n",
       "    .dataframe tbody tr th:only-of-type {\n",
       "        vertical-align: middle;\n",
       "    }\n",
       "\n",
       "    .dataframe tbody tr th {\n",
       "        vertical-align: top;\n",
       "    }\n",
       "\n",
       "    .dataframe thead th {\n",
       "        text-align: right;\n",
       "    }\n",
       "</style>\n",
       "<table border=\"1\" class=\"dataframe\">\n",
       "  <thead>\n",
       "    <tr style=\"text-align: right;\">\n",
       "      <th></th>\n",
       "      <th>Zipcode</th>\n",
       "      <th>Population</th>\n",
       "      <th>Median Age</th>\n",
       "      <th>Household Income</th>\n",
       "      <th>Per Capita Income</th>\n",
       "      <th>Poverty Count</th>\n",
       "      <th>Poverty Rate</th>\n",
       "    </tr>\n",
       "  </thead>\n",
       "  <tbody>\n",
       "    <tr>\n",
       "      <th>0</th>\n",
       "      <td>601</td>\n",
       "      <td>17599.0</td>\n",
       "      <td>38.9</td>\n",
       "      <td>11757.0</td>\n",
       "      <td>7041.0</td>\n",
       "      <td>11282.0</td>\n",
       "      <td>64.105915</td>\n",
       "    </tr>\n",
       "    <tr>\n",
       "      <th>1</th>\n",
       "      <td>602</td>\n",
       "      <td>39209.0</td>\n",
       "      <td>40.9</td>\n",
       "      <td>16190.0</td>\n",
       "      <td>8978.0</td>\n",
       "      <td>20428.0</td>\n",
       "      <td>52.100283</td>\n",
       "    </tr>\n",
       "    <tr>\n",
       "      <th>2</th>\n",
       "      <td>603</td>\n",
       "      <td>50135.0</td>\n",
       "      <td>40.4</td>\n",
       "      <td>16645.0</td>\n",
       "      <td>10897.0</td>\n",
       "      <td>25176.0</td>\n",
       "      <td>50.216416</td>\n",
       "    </tr>\n",
       "    <tr>\n",
       "      <th>3</th>\n",
       "      <td>606</td>\n",
       "      <td>6304.0</td>\n",
       "      <td>42.8</td>\n",
       "      <td>13387.0</td>\n",
       "      <td>5960.0</td>\n",
       "      <td>4092.0</td>\n",
       "      <td>64.911168</td>\n",
       "    </tr>\n",
       "    <tr>\n",
       "      <th>4</th>\n",
       "      <td>610</td>\n",
       "      <td>27590.0</td>\n",
       "      <td>41.4</td>\n",
       "      <td>18741.0</td>\n",
       "      <td>9266.0</td>\n",
       "      <td>12553.0</td>\n",
       "      <td>45.498369</td>\n",
       "    </tr>\n",
       "  </tbody>\n",
       "</table>\n",
       "</div>"
      ],
      "text/plain": [
       "   Zipcode  Population  Median Age  Household Income  Per Capita Income  \\\n",
       "0      601     17599.0        38.9           11757.0             7041.0   \n",
       "1      602     39209.0        40.9           16190.0             8978.0   \n",
       "2      603     50135.0        40.4           16645.0            10897.0   \n",
       "3      606      6304.0        42.8           13387.0             5960.0   \n",
       "4      610     27590.0        41.4           18741.0             9266.0   \n",
       "\n",
       "   Poverty Count  Poverty Rate  \n",
       "0        11282.0     64.105915  \n",
       "1        20428.0     52.100283  \n",
       "2        25176.0     50.216416  \n",
       "3         4092.0     64.911168  \n",
       "4        12553.0     45.498369  "
      ]
     },
<<<<<<< HEAD
<<<<<<< HEAD
     "execution_count": 69,
=======
     "execution_count": 2,
>>>>>>> david
=======
     "execution_count": 2,
>>>>>>> david
     "metadata": {},
     "output_type": "execute_result"
    }
   ],
   "source": [
    "#read census csv file\n",
<<<<<<< HEAD
<<<<<<< HEAD
    "census_df = pd.read_csv(\"censusdata.csv\")\n",
=======
    "census_df = pd.read_csv(\"Resources/censusdata.csv\")\n",
>>>>>>> david
=======
    "census_df = pd.read_csv(\"Resources/censusdata.csv\")\n",
>>>>>>> david
    "census_df.head()"
   ]
  },
  {
   "cell_type": "code",
<<<<<<< HEAD
<<<<<<< HEAD
   "execution_count": 70,
=======
   "execution_count": 3,
>>>>>>> david
=======
   "execution_count": 3,
>>>>>>> david
   "metadata": {},
   "outputs": [
    {
     "data": {
      "text/html": [
       "<div>\n",
       "<style scoped>\n",
       "    .dataframe tbody tr th:only-of-type {\n",
       "        vertical-align: middle;\n",
       "    }\n",
       "\n",
       "    .dataframe tbody tr th {\n",
       "        vertical-align: top;\n",
       "    }\n",
       "\n",
       "    .dataframe thead th {\n",
       "        text-align: right;\n",
       "    }\n",
       "</style>\n",
       "<table border=\"1\" class=\"dataframe\">\n",
       "  <thead>\n",
       "    <tr style=\"text-align: right;\">\n",
       "      <th></th>\n",
       "      <th>Zipcode</th>\n",
       "      <th>primary_city</th>\n",
       "      <th>state</th>\n",
       "      <th>country</th>\n",
       "      <th>latitude</th>\n",
       "      <th>longitude</th>\n",
       "    </tr>\n",
       "  </thead>\n",
       "  <tbody>\n",
       "    <tr>\n",
       "      <th>0</th>\n",
       "      <td>501</td>\n",
       "      <td>Holtsville</td>\n",
       "      <td>NY</td>\n",
       "      <td>US</td>\n",
       "      <td>40.81</td>\n",
       "      <td>-73.04</td>\n",
       "    </tr>\n",
       "    <tr>\n",
       "      <th>1</th>\n",
       "      <td>544</td>\n",
       "      <td>Holtsville</td>\n",
       "      <td>NY</td>\n",
       "      <td>US</td>\n",
       "      <td>40.81</td>\n",
       "      <td>-73.04</td>\n",
       "    </tr>\n",
       "    <tr>\n",
       "      <th>2</th>\n",
       "      <td>601</td>\n",
       "      <td>Adjuntas</td>\n",
       "      <td>PR</td>\n",
       "      <td>US</td>\n",
       "      <td>18.16</td>\n",
       "      <td>-66.72</td>\n",
       "    </tr>\n",
       "    <tr>\n",
       "      <th>3</th>\n",
       "      <td>602</td>\n",
       "      <td>Aguada</td>\n",
       "      <td>PR</td>\n",
       "      <td>US</td>\n",
       "      <td>18.38</td>\n",
       "      <td>-67.18</td>\n",
       "    </tr>\n",
       "    <tr>\n",
       "      <th>4</th>\n",
       "      <td>603</td>\n",
       "      <td>Aguadilla</td>\n",
       "      <td>PR</td>\n",
       "      <td>US</td>\n",
       "      <td>18.43</td>\n",
       "      <td>-67.15</td>\n",
       "    </tr>\n",
       "  </tbody>\n",
       "</table>\n",
       "</div>"
      ],
      "text/plain": [
       "   Zipcode primary_city state country  latitude  longitude\n",
       "0      501   Holtsville    NY      US     40.81     -73.04\n",
       "1      544   Holtsville    NY      US     40.81     -73.04\n",
       "2      601     Adjuntas    PR      US     18.16     -66.72\n",
       "3      602       Aguada    PR      US     18.38     -67.18\n",
       "4      603    Aguadilla    PR      US     18.43     -67.15"
      ]
     },
<<<<<<< HEAD
<<<<<<< HEAD
     "execution_count": 70,
=======
     "execution_count": 3,
>>>>>>> david
=======
     "execution_count": 3,
>>>>>>> david
     "metadata": {},
     "output_type": "execute_result"
    }
   ],
   "source": [
    "#read zip code csv file\n",
<<<<<<< HEAD
<<<<<<< HEAD
    "zip_df = pd.read_csv(\"zip_code_database.csv\")\n",
=======
    "zip_df = pd.read_csv(\"Resources/zip_code_database.csv\")\n",
>>>>>>> david
=======
    "zip_df = pd.read_csv(\"Resources/zip_code_database.csv\")\n",
>>>>>>> david
    "# only utilize zip city state country lat lng\n",
    "zip_df = zip_df.loc[:, ['zip','primary_city', 'state', 'country', 'latitude', 'longitude']]\n",
    "zip_df = zip_df.rename(columns={\"zip\": \"Zipcode\"})\n",
    "zip_df.head()"
   ]
  },
  {
   "cell_type": "code",
<<<<<<< HEAD
<<<<<<< HEAD
   "execution_count": 71,
=======
   "execution_count": 4,
>>>>>>> david
=======
   "execution_count": 4,
>>>>>>> david
   "metadata": {},
   "outputs": [
    {
     "data": {
      "text/html": [
       "<div>\n",
       "<style scoped>\n",
       "    .dataframe tbody tr th:only-of-type {\n",
       "        vertical-align: middle;\n",
       "    }\n",
       "\n",
       "    .dataframe tbody tr th {\n",
       "        vertical-align: top;\n",
       "    }\n",
       "\n",
       "    .dataframe thead th {\n",
       "        text-align: right;\n",
       "    }\n",
       "</style>\n",
       "<table border=\"1\" class=\"dataframe\">\n",
       "  <thead>\n",
       "    <tr style=\"text-align: right;\">\n",
       "      <th></th>\n",
       "      <th>Zipcode</th>\n",
       "      <th>Population</th>\n",
       "      <th>Median Age</th>\n",
       "      <th>Household Income</th>\n",
       "      <th>Per Capita Income</th>\n",
       "      <th>Poverty Count</th>\n",
       "      <th>Poverty Rate</th>\n",
       "      <th>primary_city</th>\n",
       "      <th>state</th>\n",
       "      <th>country</th>\n",
       "      <th>latitude</th>\n",
       "      <th>longitude</th>\n",
       "    </tr>\n",
       "  </thead>\n",
       "  <tbody>\n",
       "    <tr>\n",
       "      <th>0</th>\n",
       "      <td>601</td>\n",
       "      <td>17599.0</td>\n",
       "      <td>38.9</td>\n",
       "      <td>11757.0</td>\n",
       "      <td>7041.0</td>\n",
       "      <td>11282.0</td>\n",
       "      <td>64.105915</td>\n",
       "      <td>Adjuntas</td>\n",
       "      <td>PR</td>\n",
       "      <td>US</td>\n",
       "      <td>18.16</td>\n",
       "      <td>-66.72</td>\n",
       "    </tr>\n",
       "    <tr>\n",
       "      <th>1</th>\n",
       "      <td>602</td>\n",
       "      <td>39209.0</td>\n",
       "      <td>40.9</td>\n",
       "      <td>16190.0</td>\n",
       "      <td>8978.0</td>\n",
       "      <td>20428.0</td>\n",
       "      <td>52.100283</td>\n",
       "      <td>Aguada</td>\n",
       "      <td>PR</td>\n",
       "      <td>US</td>\n",
       "      <td>18.38</td>\n",
       "      <td>-67.18</td>\n",
       "    </tr>\n",
       "    <tr>\n",
       "      <th>2</th>\n",
       "      <td>603</td>\n",
       "      <td>50135.0</td>\n",
       "      <td>40.4</td>\n",
       "      <td>16645.0</td>\n",
       "      <td>10897.0</td>\n",
       "      <td>25176.0</td>\n",
       "      <td>50.216416</td>\n",
       "      <td>Aguadilla</td>\n",
       "      <td>PR</td>\n",
       "      <td>US</td>\n",
       "      <td>18.43</td>\n",
       "      <td>-67.15</td>\n",
       "    </tr>\n",
       "    <tr>\n",
       "      <th>3</th>\n",
       "      <td>606</td>\n",
       "      <td>6304.0</td>\n",
       "      <td>42.8</td>\n",
       "      <td>13387.0</td>\n",
       "      <td>5960.0</td>\n",
       "      <td>4092.0</td>\n",
       "      <td>64.911168</td>\n",
       "      <td>Maricao</td>\n",
       "      <td>PR</td>\n",
       "      <td>US</td>\n",
       "      <td>18.18</td>\n",
       "      <td>-66.98</td>\n",
       "    </tr>\n",
       "    <tr>\n",
       "      <th>4</th>\n",
       "      <td>610</td>\n",
       "      <td>27590.0</td>\n",
       "      <td>41.4</td>\n",
       "      <td>18741.0</td>\n",
       "      <td>9266.0</td>\n",
       "      <td>12553.0</td>\n",
       "      <td>45.498369</td>\n",
       "      <td>Anasco</td>\n",
       "      <td>PR</td>\n",
       "      <td>US</td>\n",
       "      <td>18.28</td>\n",
       "      <td>-67.14</td>\n",
       "    </tr>\n",
       "  </tbody>\n",
       "</table>\n",
       "</div>"
      ],
      "text/plain": [
       "   Zipcode  Population  Median Age  Household Income  Per Capita Income  \\\n",
       "0      601     17599.0        38.9           11757.0             7041.0   \n",
       "1      602     39209.0        40.9           16190.0             8978.0   \n",
       "2      603     50135.0        40.4           16645.0            10897.0   \n",
       "3      606      6304.0        42.8           13387.0             5960.0   \n",
       "4      610     27590.0        41.4           18741.0             9266.0   \n",
       "\n",
       "   Poverty Count  Poverty Rate primary_city state country  latitude  longitude  \n",
       "0        11282.0     64.105915     Adjuntas    PR      US     18.16     -66.72  \n",
       "1        20428.0     52.100283       Aguada    PR      US     18.38     -67.18  \n",
       "2        25176.0     50.216416    Aguadilla    PR      US     18.43     -67.15  \n",
       "3         4092.0     64.911168      Maricao    PR      US     18.18     -66.98  \n",
       "4        12553.0     45.498369       Anasco    PR      US     18.28     -67.14  "
      ]
     },
<<<<<<< HEAD
<<<<<<< HEAD
     "execution_count": 71,
=======
     "execution_count": 4,
>>>>>>> david
=======
     "execution_count": 4,
>>>>>>> david
     "metadata": {},
     "output_type": "execute_result"
    }
   ],
   "source": [
    "# Merge Census and Zipcode dataframes using an inner join\n",
    "merge_table = pd.merge(census_df, zip_df, on=\"Zipcode\")\n",
    "merge_table.head()"
   ]
  },
  {
   "cell_type": "code",
<<<<<<< HEAD
<<<<<<< HEAD
   "execution_count": 74,
=======
   "execution_count": 5,
>>>>>>> david
=======
   "execution_count": 5,
>>>>>>> david
   "metadata": {},
   "outputs": [],
   "source": [
    "# pull in cell tower csv.\n",
    "\n",
    "# cell_df = pd.read_csv(\"cell_towers_2019-09-28-T000000.csv\")\n",
    "\n",
    "# limit mcc code to only view US cell towers. mcc 310 thru 316\n",
    "\n",
    "# cell_df = cell_df[(cell_df['mcc'] >= 310) & (cell_df['mcc'] <= 316)]\n",
    "\n",
    "#cell_df.to_csv(\"UScelldata.csv\", index=False, header=True)"
   ]
  },
  {
   "cell_type": "code",
<<<<<<< HEAD
<<<<<<< HEAD
   "execution_count": 77,
   "metadata": {},
   "outputs": [
    {
     "name": "stdout",
     "output_type": "stream",
     "text": [
      "5794378\n"
     ]
    }
   ],
   "source": [
    "# pull in cell tower US csv.\n",
    "cell_df = pd.read_csv(\"UScelldata.csv\")"
=======
=======
>>>>>>> david
   "execution_count": 6,
   "metadata": {},
   "outputs": [],
   "source": [
    "# pull in cell tower US csv.\n",
    "cell_df = pd.read_csv(\"Resources/UScelldata.csv\")"
<<<<<<< HEAD
>>>>>>> david
=======
>>>>>>> david
   ]
  },
  {
   "cell_type": "code",
<<<<<<< HEAD
<<<<<<< HEAD
   "execution_count": 94,
=======
   "execution_count": 7,
>>>>>>> david
=======
   "execution_count": 7,
>>>>>>> david
   "metadata": {},
   "outputs": [
    {
     "data": {
      "text/html": [
       "<div>\n",
       "<style scoped>\n",
       "    .dataframe tbody tr th:only-of-type {\n",
       "        vertical-align: middle;\n",
       "    }\n",
       "\n",
       "    .dataframe tbody tr th {\n",
       "        vertical-align: top;\n",
       "    }\n",
       "\n",
       "    .dataframe thead th {\n",
       "        text-align: right;\n",
       "    }\n",
       "</style>\n",
       "<table border=\"1\" class=\"dataframe\">\n",
       "  <thead>\n",
       "    <tr style=\"text-align: right;\">\n",
       "      <th></th>\n",
       "      <th>radio</th>\n",
       "      <th>mcc</th>\n",
       "      <th>net</th>\n",
       "      <th>area</th>\n",
       "      <th>cell</th>\n",
       "      <th>unit</th>\n",
       "      <th>lon</th>\n",
       "      <th>lat</th>\n",
       "      <th>range</th>\n",
       "      <th>samples</th>\n",
       "      <th>changeable</th>\n",
       "      <th>created</th>\n",
       "      <th>updated</th>\n",
       "      <th>averageSignal</th>\n",
       "      <th>location</th>\n",
       "    </tr>\n",
       "  </thead>\n",
       "  <tbody>\n",
       "    <tr>\n",
       "      <th>0</th>\n",
       "      <td>GSM</td>\n",
       "      <td>310</td>\n",
       "      <td>260</td>\n",
       "      <td>32192</td>\n",
       "      <td>22568</td>\n",
       "      <td>0</td>\n",
       "      <td>-73.86</td>\n",
       "      <td>40.90</td>\n",
       "      <td>1779</td>\n",
       "      <td>12</td>\n",
       "      <td>1</td>\n",
       "      <td>1459696254</td>\n",
       "      <td>1489125559</td>\n",
       "      <td>0</td>\n",
       "      <td>(40.9, -73.86)</td>\n",
       "    </tr>\n",
       "    <tr>\n",
       "      <th>1</th>\n",
       "      <td>GSM</td>\n",
       "      <td>310</td>\n",
       "      <td>260</td>\n",
       "      <td>22629</td>\n",
       "      <td>61562</td>\n",
       "      <td>0</td>\n",
       "      <td>-95.90</td>\n",
       "      <td>41.30</td>\n",
       "      <td>1000</td>\n",
       "      <td>2</td>\n",
       "      <td>1</td>\n",
       "      <td>1459810860</td>\n",
       "      <td>1474332973</td>\n",
       "      <td>0</td>\n",
       "      <td>(41.3, -95.9)</td>\n",
       "    </tr>\n",
       "    <tr>\n",
       "      <th>2</th>\n",
       "      <td>GSM</td>\n",
       "      <td>310</td>\n",
       "      <td>260</td>\n",
       "      <td>51052</td>\n",
       "      <td>44152</td>\n",
       "      <td>0</td>\n",
       "      <td>-71.08</td>\n",
       "      <td>42.38</td>\n",
       "      <td>1000</td>\n",
       "      <td>44</td>\n",
       "      <td>1</td>\n",
       "      <td>1459812328</td>\n",
       "      <td>1514115939</td>\n",
       "      <td>0</td>\n",
       "      <td>(42.38, -71.08)</td>\n",
       "    </tr>\n",
       "    <tr>\n",
       "      <th>3</th>\n",
       "      <td>GSM</td>\n",
       "      <td>310</td>\n",
       "      <td>260</td>\n",
       "      <td>51051</td>\n",
       "      <td>40311</td>\n",
       "      <td>0</td>\n",
       "      <td>-71.09</td>\n",
       "      <td>42.38</td>\n",
       "      <td>1000</td>\n",
       "      <td>52</td>\n",
       "      <td>1</td>\n",
       "      <td>1459812328</td>\n",
       "      <td>1527695374</td>\n",
       "      <td>0</td>\n",
       "      <td>(42.38, -71.09)</td>\n",
       "    </tr>\n",
       "    <tr>\n",
       "      <th>4</th>\n",
       "      <td>GSM</td>\n",
       "      <td>310</td>\n",
       "      <td>260</td>\n",
       "      <td>5973</td>\n",
       "      <td>60092</td>\n",
       "      <td>0</td>\n",
       "      <td>-95.57</td>\n",
       "      <td>29.74</td>\n",
       "      <td>1000</td>\n",
       "      <td>22</td>\n",
       "      <td>1</td>\n",
       "      <td>1459692332</td>\n",
       "      <td>1490851584</td>\n",
       "      <td>0</td>\n",
       "      <td>(29.74, -95.57)</td>\n",
       "    </tr>\n",
       "  </tbody>\n",
       "</table>\n",
       "</div>"
      ],
      "text/plain": [
       "  radio  mcc  net   area   cell  unit    lon    lat  range  samples  \\\n",
       "0   GSM  310  260  32192  22568     0 -73.86  40.90   1779       12   \n",
       "1   GSM  310  260  22629  61562     0 -95.90  41.30   1000        2   \n",
       "2   GSM  310  260  51052  44152     0 -71.08  42.38   1000       44   \n",
       "3   GSM  310  260  51051  40311     0 -71.09  42.38   1000       52   \n",
       "4   GSM  310  260   5973  60092     0 -95.57  29.74   1000       22   \n",
       "\n",
       "   changeable     created     updated  averageSignal         location  \n",
       "0           1  1459696254  1489125559              0   (40.9, -73.86)  \n",
       "1           1  1459810860  1474332973              0    (41.3, -95.9)  \n",
       "2           1  1459812328  1514115939              0  (42.38, -71.08)  \n",
       "3           1  1459812328  1527695374              0  (42.38, -71.09)  \n",
       "4           1  1459692332  1490851584              0  (29.74, -95.57)  "
      ]
     },
<<<<<<< HEAD
<<<<<<< HEAD
     "execution_count": 94,
=======
     "execution_count": 7,
>>>>>>> david
=======
     "execution_count": 7,
>>>>>>> david
     "metadata": {},
     "output_type": "execute_result"
    }
   ],
   "source": [
    "# round lat and longitude\n",
    "cell_df = cell_df.round({'lon': 2, 'lat': 2})\n",
    "\n",
    "cell_df['location'] = list(zip(cell_df[\"lat\"] , cell_df[\"lon\"]))\n",
    "\n",
    "cell_df.head()"
   ]
  },
  {
   "cell_type": "code",
   "execution_count": null,
   "metadata": {},
   "outputs": [],
   "source": []
  },
  {
   "cell_type": "code",
<<<<<<< HEAD
<<<<<<< HEAD
   "execution_count": 56,
=======
   "execution_count": 8,
>>>>>>> david
=======
   "execution_count": 8,
>>>>>>> david
   "metadata": {},
   "outputs": [
    {
     "data": {
      "text/html": [
       "<div>\n",
       "<style scoped>\n",
       "    .dataframe tbody tr th:only-of-type {\n",
       "        vertical-align: middle;\n",
       "    }\n",
       "\n",
       "    .dataframe tbody tr th {\n",
       "        vertical-align: top;\n",
       "    }\n",
       "\n",
       "    .dataframe thead th {\n",
       "        text-align: right;\n",
       "    }\n",
       "</style>\n",
       "<table border=\"1\" class=\"dataframe\">\n",
       "  <thead>\n",
       "    <tr style=\"text-align: right;\">\n",
       "      <th></th>\n",
       "      <th>mcc</th>\n",
       "      <th>net</th>\n",
       "      <th>area</th>\n",
       "      <th>cell</th>\n",
       "      <th>unit</th>\n",
       "      <th>lon</th>\n",
       "      <th>lat</th>\n",
       "      <th>range</th>\n",
       "      <th>samples</th>\n",
       "      <th>changeable</th>\n",
       "      <th>created</th>\n",
       "      <th>updated</th>\n",
       "      <th>averageSignal</th>\n",
<<<<<<< HEAD
<<<<<<< HEAD
=======
       "      <th>location</th>\n",
>>>>>>> david
=======
       "      <th>location</th>\n",
>>>>>>> david
       "    </tr>\n",
       "    <tr>\n",
       "      <th>radio</th>\n",
       "      <th></th>\n",
       "      <th></th>\n",
       "      <th></th>\n",
       "      <th></th>\n",
       "      <th></th>\n",
       "      <th></th>\n",
       "      <th></th>\n",
       "      <th></th>\n",
       "      <th></th>\n",
       "      <th></th>\n",
       "      <th></th>\n",
       "      <th></th>\n",
       "      <th></th>\n",
<<<<<<< HEAD
<<<<<<< HEAD
=======
       "      <th></th>\n",
>>>>>>> david
=======
       "      <th></th>\n",
>>>>>>> david
       "    </tr>\n",
       "  </thead>\n",
       "  <tbody>\n",
       "    <tr>\n",
       "      <th>CDMA</th>\n",
<<<<<<< HEAD
<<<<<<< HEAD
       "      <td>55</td>\n",
       "      <td>55</td>\n",
       "      <td>55</td>\n",
       "      <td>55</td>\n",
       "      <td>55</td>\n",
       "      <td>55</td>\n",
       "      <td>55</td>\n",
       "      <td>55</td>\n",
       "      <td>55</td>\n",
       "      <td>55</td>\n",
       "      <td>55</td>\n",
       "      <td>55</td>\n",
       "      <td>55</td>\n",
       "    </tr>\n",
       "    <tr>\n",
       "      <th>GSM</th>\n",
       "      <td>34</td>\n",
       "      <td>34</td>\n",
       "      <td>34</td>\n",
       "      <td>34</td>\n",
       "      <td>34</td>\n",
       "      <td>34</td>\n",
       "      <td>34</td>\n",
       "      <td>34</td>\n",
       "      <td>34</td>\n",
       "      <td>34</td>\n",
       "      <td>34</td>\n",
       "      <td>34</td>\n",
       "      <td>34</td>\n",
       "    </tr>\n",
       "    <tr>\n",
       "      <th>LTE</th>\n",
       "      <td>7630</td>\n",
       "      <td>7630</td>\n",
       "      <td>7630</td>\n",
       "      <td>7630</td>\n",
       "      <td>7630</td>\n",
       "      <td>7630</td>\n",
       "      <td>7630</td>\n",
       "      <td>7630</td>\n",
       "      <td>7630</td>\n",
       "      <td>7630</td>\n",
       "      <td>7630</td>\n",
       "      <td>7630</td>\n",
       "      <td>7630</td>\n",
       "    </tr>\n",
       "    <tr>\n",
       "      <th>UMTS</th>\n",
       "      <td>261</td>\n",
       "      <td>261</td>\n",
       "      <td>261</td>\n",
       "      <td>261</td>\n",
       "      <td>261</td>\n",
       "      <td>261</td>\n",
       "      <td>261</td>\n",
       "      <td>261</td>\n",
       "      <td>261</td>\n",
       "      <td>261</td>\n",
       "      <td>261</td>\n",
       "      <td>261</td>\n",
       "      <td>261</td>\n",
=======
=======
>>>>>>> david
       "      <td>542459</td>\n",
       "      <td>542459</td>\n",
       "      <td>542459</td>\n",
       "      <td>542459</td>\n",
       "      <td>542459</td>\n",
       "      <td>542459</td>\n",
       "      <td>542459</td>\n",
       "      <td>542459</td>\n",
       "      <td>542459</td>\n",
       "      <td>542459</td>\n",
       "      <td>542459</td>\n",
       "      <td>542459</td>\n",
       "      <td>542459</td>\n",
       "      <td>542459</td>\n",
       "    </tr>\n",
       "    <tr>\n",
       "      <th>GSM</th>\n",
       "      <td>271968</td>\n",
       "      <td>271968</td>\n",
       "      <td>271968</td>\n",
       "      <td>271968</td>\n",
       "      <td>271968</td>\n",
       "      <td>271968</td>\n",
       "      <td>271968</td>\n",
       "      <td>271968</td>\n",
       "      <td>271968</td>\n",
       "      <td>271968</td>\n",
       "      <td>271968</td>\n",
       "      <td>271968</td>\n",
       "      <td>271968</td>\n",
       "      <td>271968</td>\n",
       "    </tr>\n",
       "    <tr>\n",
       "      <th>LTE</th>\n",
       "      <td>3387989</td>\n",
       "      <td>3387989</td>\n",
       "      <td>3387989</td>\n",
       "      <td>3387989</td>\n",
       "      <td>3387989</td>\n",
       "      <td>3387989</td>\n",
       "      <td>3387989</td>\n",
       "      <td>3387989</td>\n",
       "      <td>3387989</td>\n",
       "      <td>3387989</td>\n",
       "      <td>3387989</td>\n",
       "      <td>3387989</td>\n",
       "      <td>3387989</td>\n",
       "      <td>3387989</td>\n",
       "    </tr>\n",
       "    <tr>\n",
       "      <th>UMTS</th>\n",
       "      <td>1591962</td>\n",
       "      <td>1591962</td>\n",
       "      <td>1591962</td>\n",
       "      <td>1591962</td>\n",
       "      <td>1591962</td>\n",
       "      <td>1591962</td>\n",
       "      <td>1591962</td>\n",
       "      <td>1591962</td>\n",
       "      <td>1591962</td>\n",
       "      <td>1591962</td>\n",
       "      <td>1591962</td>\n",
       "      <td>1591962</td>\n",
       "      <td>1591962</td>\n",
       "      <td>1591962</td>\n",
<<<<<<< HEAD
>>>>>>> david
=======
>>>>>>> david
       "    </tr>\n",
       "  </tbody>\n",
       "</table>\n",
       "</div>"
      ],
      "text/plain": [
<<<<<<< HEAD
<<<<<<< HEAD
       "        mcc   net  area  cell  unit   lon   lat  range  samples  changeable  \\\n",
       "radio                                                                         \n",
       "CDMA     55    55    55    55    55    55    55     55       55          55   \n",
       "GSM      34    34    34    34    34    34    34     34       34          34   \n",
       "LTE    7630  7630  7630  7630  7630  7630  7630   7630     7630        7630   \n",
       "UMTS    261   261   261   261   261   261   261    261      261         261   \n",
       "\n",
       "       created  updated  averageSignal  \n",
       "radio                                   \n",
       "CDMA        55       55             55  \n",
       "GSM         34       34             34  \n",
       "LTE       7630     7630           7630  \n",
       "UMTS       261      261            261  "
      ]
     },
     "execution_count": 56,
=======
=======
>>>>>>> david
       "           mcc      net     area     cell     unit      lon      lat    range  \\\n",
       "radio                                                                           \n",
       "CDMA    542459   542459   542459   542459   542459   542459   542459   542459   \n",
       "GSM     271968   271968   271968   271968   271968   271968   271968   271968   \n",
       "LTE    3387989  3387989  3387989  3387989  3387989  3387989  3387989  3387989   \n",
       "UMTS   1591962  1591962  1591962  1591962  1591962  1591962  1591962  1591962   \n",
       "\n",
       "       samples  changeable  created  updated  averageSignal  location  \n",
       "radio                                                                  \n",
       "CDMA    542459      542459   542459   542459         542459    542459  \n",
       "GSM     271968      271968   271968   271968         271968    271968  \n",
       "LTE    3387989     3387989  3387989  3387989        3387989   3387989  \n",
       "UMTS   1591962     1591962  1591962  1591962        1591962   1591962  "
      ]
     },
     "execution_count": 8,
<<<<<<< HEAD
>>>>>>> david
=======
>>>>>>> david
     "metadata": {},
     "output_type": "execute_result"
    }
   ],
   "source": [
    "# Identify unique radio types and counts.\n",
    "df = cell_df.groupby(['radio']).count()\n",
    "df"
   ]
  },
  {
   "cell_type": "code",
<<<<<<< HEAD
<<<<<<< HEAD
   "execution_count": null,
=======
   "execution_count": 9,
>>>>>>> david
=======
   "execution_count": 9,
>>>>>>> david
   "metadata": {},
   "outputs": [],
   "source": [
    "# merge cell_df and merge_table\n"
   ]
  },
  {
   "cell_type": "code",
<<<<<<< HEAD
<<<<<<< HEAD
   "execution_count": 5,
=======
   "execution_count": 10,
>>>>>>> david
=======
   "execution_count": 10,
>>>>>>> david
   "metadata": {},
   "outputs": [],
   "source": [
    "# # Target city\n",
<<<<<<< HEAD
<<<<<<< HEAD
    "# target_city = \"Boise, Idaho\"\n",
    "\n",
    "# # Build the endpoint URL\n",
    "# target_url = ('https://maps.googleapis.com/maps/api/geocode/json?'\n",
    "#     'address={0}&key={1}').format(target_city, gkey)\n",
=======
=======
>>>>>>> david
    "target_city = \"Boise, Idaho\"\n",
    "\n",
    "# # Build the endpoint URL\n",
    "target_url = ('https://maps.googleapis.com/maps/api/geocode/json?'\n",
    "    'address={0}&key={1}').format(target_city, gkey)\n",
<<<<<<< HEAD
>>>>>>> david
=======
>>>>>>> david
    "\n"
   ]
  },
  {
   "cell_type": "code",
<<<<<<< HEAD
<<<<<<< HEAD
   "execution_count": 6,
=======
   "execution_count": 11,
>>>>>>> david
=======
   "execution_count": 11,
>>>>>>> david
   "metadata": {},
   "outputs": [
    {
     "name": "stdout",
     "output_type": "stream",
     "text": [
      "{\n",
      "    \"results\": [\n",
      "        {\n",
      "            \"address_components\": [\n",
      "                {\n",
      "                    \"long_name\": \"Boise\",\n",
      "                    \"short_name\": \"Boise\",\n",
      "                    \"types\": [\n",
      "                        \"locality\",\n",
      "                        \"political\"\n",
      "                    ]\n",
      "                },\n",
      "                {\n",
      "                    \"long_name\": \"Ada County\",\n",
      "                    \"short_name\": \"Ada County\",\n",
      "                    \"types\": [\n",
      "                        \"administrative_area_level_2\",\n",
      "                        \"political\"\n",
      "                    ]\n",
      "                },\n",
      "                {\n",
      "                    \"long_name\": \"Idaho\",\n",
      "                    \"short_name\": \"ID\",\n",
      "                    \"types\": [\n",
      "                        \"administrative_area_level_1\",\n",
      "                        \"political\"\n",
      "                    ]\n",
      "                },\n",
      "                {\n",
      "                    \"long_name\": \"United States\",\n",
      "                    \"short_name\": \"US\",\n",
      "                    \"types\": [\n",
      "                        \"country\",\n",
      "                        \"political\"\n",
      "                    ]\n",
      "                }\n",
      "            ],\n",
      "            \"formatted_address\": \"Boise, ID, USA\",\n",
      "            \"geometry\": {\n",
      "                \"bounds\": {\n",
      "                    \"northeast\": {\n",
      "                        \"lat\": 43.6898951,\n",
      "                        \"lng\": -116.1019091\n",
      "                    },\n",
      "                    \"southwest\": {\n",
      "                        \"lat\": 43.511717,\n",
      "                        \"lng\": -116.3658869\n",
      "                    }\n",
      "                },\n",
      "                \"location\": {\n",
      "                    \"lat\": 43.6150186,\n",
      "                    \"lng\": -116.2023137\n",
      "                },\n",
      "                \"location_type\": \"APPROXIMATE\",\n",
      "                \"viewport\": {\n",
      "                    \"northeast\": {\n",
      "                        \"lat\": 43.6898951,\n",
      "                        \"lng\": -116.1019091\n",
      "                    },\n",
      "                    \"southwest\": {\n",
      "                        \"lat\": 43.511717,\n",
      "                        \"lng\": -116.3658869\n",
      "                    }\n",
      "                }\n",
      "            },\n",
      "            \"place_id\": \"ChIJnbRH6XLxrlQRm51nNpuYW5o\",\n",
      "            \"types\": [\n",
      "                \"locality\",\n",
      "                \"political\"\n",
      "            ]\n",
      "        }\n",
      "    ],\n",
      "    \"status\": \"OK\"\n",
      "}\n"
     ]
    }
   ],
   "source": [
    "# # Run a request to endpoint and convert result to json\n",
<<<<<<< HEAD
<<<<<<< HEAD
    "# geo_data = requests.get(target_url).json()\n",
    "\n",
    "# # Print the json (pretty printed)\n",
    "# print(json.dumps(geo_data, indent=4, sort_keys=True))"
=======
=======
>>>>>>> david
    "geo_data = requests.get(target_url).json()\n",
    "\n",
    "# # Print the json (pretty printed)\n",
    "print(json.dumps(geo_data, indent=4, sort_keys=True))"
<<<<<<< HEAD
>>>>>>> david
=======
>>>>>>> david
   ]
  },
  {
   "cell_type": "code",
   "execution_count": null,
   "metadata": {},
   "outputs": [],
   "source": []
  }
 ],
 "metadata": {
  "kernelspec": {
   "display_name": "Python 3",
   "language": "python",
   "name": "python3"
  },
  "language_info": {
   "codemirror_mode": {
    "name": "ipython",
    "version": 3
   },
   "file_extension": ".py",
   "mimetype": "text/x-python",
   "name": "python",
   "nbconvert_exporter": "python",
   "pygments_lexer": "ipython3",
   "version": "3.7.3"
  }
 },
 "nbformat": 4,
 "nbformat_minor": 2
}
